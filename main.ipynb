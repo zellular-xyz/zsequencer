{
 "cells": [
  {
   "cell_type": "code",
   "execution_count": 21,
   "id": "initial_id",
   "metadata": {
    "collapsed": true,
    "ExecuteTime": {
     "end_time": "2025-01-09T12:19:00.696536Z",
     "start_time": "2025-01-09T12:19:00.668847Z"
    }
   },
   "outputs": [
    {
     "name": "stdout",
     "output_type": "stream",
     "text": [
      "Original: {'a': 1, 'b': [2, 3, 4], 'c': {'d': 4}}\n",
      "Shallow Copy: {'a': 1, 'b': [2, 3, 4], 'c': {'d': 4}}\n",
      "Deep Copy: {'a': 1, 'b': [2, 3], 'c': {'d': 5}}\n"
     ]
    }
   ],
   "source": [
    "import copy\n",
    "\n",
    "original_dict = {'a': 1, 'b': [2, 3], 'c': {'d': 4}}\n",
    "\n",
    "# Shallow copy\n",
    "shallow_copy = original_dict.copy() \n",
    "\n",
    "# Deep copy\n",
    "deep_copy = copy.deepcopy(original_dict) \n",
    "\n",
    "# Demonstrate the difference\n",
    "shallow_copy['b'].append(4) \n",
    "deep_copy['c']['d'] = 5\n",
    "\n",
    "print(\"Original:\", original_dict) \n",
    "print(\"Shallow Copy:\", shallow_copy) \n",
    "print(\"Deep Copy:\", deep_copy)"
   ]
  },
  {
   "cell_type": "code",
   "outputs": [],
   "source": [
    "b = a.copy()\n",
    "\n",
    "a['d'] = 1\n"
   ],
   "metadata": {
    "collapsed": false,
    "ExecuteTime": {
     "end_time": "2025-01-09T12:17:45.246527Z",
     "start_time": "2025-01-09T12:17:45.243681Z"
    }
   },
   "id": "1fa30a31f7d43e78",
   "execution_count": 18
  },
  {
   "cell_type": "code",
   "outputs": [
    {
     "data": {
      "text/plain": "{'a': (2, 3), 'b': (4, 5), 'c': (6, 7), 'd': 1}"
     },
     "execution_count": 19,
     "metadata": {},
     "output_type": "execute_result"
    }
   ],
   "source": [
    "a"
   ],
   "metadata": {
    "collapsed": false,
    "ExecuteTime": {
     "end_time": "2025-01-09T12:17:47.585686Z",
     "start_time": "2025-01-09T12:17:47.579466Z"
    }
   },
   "id": "30d7425ed7c7508d",
   "execution_count": 19
  },
  {
   "cell_type": "code",
   "outputs": [
    {
     "data": {
      "text/plain": "{'a': (2, 3), 'b': (4, 5), 'c': (6, 7), 'd': 1}"
     },
     "execution_count": 20,
     "metadata": {},
     "output_type": "execute_result"
    }
   ],
   "source": [
    "b"
   ],
   "metadata": {
    "collapsed": false,
    "ExecuteTime": {
     "end_time": "2025-01-09T12:17:52.208862Z",
     "start_time": "2025-01-09T12:17:52.204043Z"
    }
   },
   "id": "8ed815ddb6df2f0c",
   "execution_count": 20
  },
  {
   "cell_type": "code",
   "outputs": [],
   "source": [
    "a = [1,2,3,4]"
   ],
   "metadata": {
    "collapsed": false,
    "ExecuteTime": {
     "end_time": "2025-01-09T14:38:24.861685Z",
     "start_time": "2025-01-09T14:38:24.837906Z"
    }
   },
   "id": "9edc705811cf42fd",
   "execution_count": 22
  },
  {
   "cell_type": "code",
   "outputs": [],
   "source": [
    "a = [*a, 5]"
   ],
   "metadata": {
    "collapsed": false,
    "ExecuteTime": {
     "end_time": "2025-01-09T14:38:29.585150Z",
     "start_time": "2025-01-09T14:38:29.573999Z"
    }
   },
   "id": "8243b9a91e0df514",
   "execution_count": 23
  },
  {
   "cell_type": "code",
   "outputs": [],
   "source": [
    "a = {'1': 1, '2': 2}"
   ],
   "metadata": {
    "collapsed": false,
    "ExecuteTime": {
     "end_time": "2025-01-09T14:45:42.588774Z",
     "start_time": "2025-01-09T14:45:42.585008Z"
    }
   },
   "id": "41e84550b876dd79",
   "execution_count": 25
  },
  {
   "cell_type": "code",
   "outputs": [],
   "source": [
    "a = {**a, '3': 3}"
   ],
   "metadata": {
    "collapsed": false,
    "ExecuteTime": {
     "end_time": "2025-01-09T14:45:53.820144Z",
     "start_time": "2025-01-09T14:45:53.811456Z"
    }
   },
   "id": "d1047d68910ec4ac",
   "execution_count": 27
  },
  {
   "cell_type": "code",
   "outputs": [
    {
     "data": {
      "text/plain": "{'1': 1, '2': 2, '3': 3}"
     },
     "execution_count": 28,
     "metadata": {},
     "output_type": "execute_result"
    }
   ],
   "source": [
    "a"
   ],
   "metadata": {
    "collapsed": false,
    "ExecuteTime": {
     "end_time": "2025-01-09T14:45:57.024367Z",
     "start_time": "2025-01-09T14:45:57.009570Z"
    }
   },
   "id": "dee007316f92803b",
   "execution_count": 28
  },
  {
   "cell_type": "code",
   "outputs": [
    {
     "ename": "TypeError",
     "evalue": "'set' object is not subscriptable",
     "output_type": "error",
     "traceback": [
      "\u001B[0;31m---------------------------------------------------------------------------\u001B[0m",
      "\u001B[0;31mTypeError\u001B[0m                                 Traceback (most recent call last)",
      "Cell \u001B[0;32mIn[3], line 3\u001B[0m\n\u001B[1;32m      1\u001B[0m \u001B[38;5;28;01mimport\u001B[39;00m\u001B[38;5;250m \u001B[39m\u001B[38;5;21;01mrandom\u001B[39;00m\n\u001B[0;32m----> 3\u001B[0m \u001B[43mrandom\u001B[49m\u001B[38;5;241;43m.\u001B[39;49m\u001B[43mchoice\u001B[49m\u001B[43m(\u001B[49m\u001B[43m{\u001B[49m\u001B[38;5;241;43m1\u001B[39;49m\u001B[43m,\u001B[49m\u001B[38;5;241;43m2\u001B[39;49m\u001B[43m,\u001B[49m\u001B[38;5;241;43m3\u001B[39;49m\u001B[43m,\u001B[49m\u001B[38;5;241;43m4\u001B[39;49m\u001B[43m}\u001B[49m\u001B[43m)\u001B[49m\n",
      "File \u001B[0;32m/opt/anaconda3/lib/python3.11/random.py:374\u001B[0m, in \u001B[0;36mRandom.choice\u001B[0;34m(self, seq)\u001B[0m\n\u001B[1;32m    372\u001B[0m \u001B[38;5;28;01mif\u001B[39;00m \u001B[38;5;129;01mnot\u001B[39;00m \u001B[38;5;28mlen\u001B[39m(seq):\n\u001B[1;32m    373\u001B[0m     \u001B[38;5;28;01mraise\u001B[39;00m \u001B[38;5;167;01mIndexError\u001B[39;00m(\u001B[38;5;124m'\u001B[39m\u001B[38;5;124mCannot choose from an empty sequence\u001B[39m\u001B[38;5;124m'\u001B[39m)\n\u001B[0;32m--> 374\u001B[0m \u001B[38;5;28;01mreturn\u001B[39;00m \u001B[43mseq\u001B[49m\u001B[43m[\u001B[49m\u001B[38;5;28;43mself\u001B[39;49m\u001B[38;5;241;43m.\u001B[39;49m\u001B[43m_randbelow\u001B[49m\u001B[43m(\u001B[49m\u001B[38;5;28;43mlen\u001B[39;49m\u001B[43m(\u001B[49m\u001B[43mseq\u001B[49m\u001B[43m)\u001B[49m\u001B[43m)\u001B[49m\u001B[43m]\u001B[49m\n",
      "\u001B[0;31mTypeError\u001B[0m: 'set' object is not subscriptable"
     ]
    }
   ],
   "source": [
    "import random\n",
    "\n",
    "random.choice({1,2,3,4})"
   ],
   "metadata": {
    "collapsed": false,
    "ExecuteTime": {
     "end_time": "2025-01-09T21:10:02.083711Z",
     "start_time": "2025-01-09T21:10:01.956671Z"
    }
   },
   "id": "d96bde58d8b96cb0",
   "execution_count": 3
  }
 ],
 "metadata": {
  "kernelspec": {
   "display_name": "Python 3",
   "language": "python",
   "name": "python3"
  },
  "language_info": {
   "codemirror_mode": {
    "name": "ipython",
    "version": 2
   },
   "file_extension": ".py",
   "mimetype": "text/x-python",
   "name": "python",
   "nbconvert_exporter": "python",
   "pygments_lexer": "ipython2",
   "version": "2.7.6"
  }
 },
 "nbformat": 4,
 "nbformat_minor": 5
}
